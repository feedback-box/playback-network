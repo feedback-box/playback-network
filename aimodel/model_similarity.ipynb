{
 "cells": [
  {
   "cell_type": "code",
   "execution_count": 4,
   "id": "816a5d06-5a00-4b74-a8b8-5ec766e6f0bf",
   "metadata": {},
   "outputs": [
    {
     "name": "stderr",
     "output_type": "stream",
     "text": [
      "/Users/alexc/.local/lib/python3.11/site-packages/huggingface_hub/file_download.py:1132: FutureWarning: `resume_download` is deprecated and will be removed in version 1.0.0. Downloads always resume when possible. If you want to force a new download, use `force_download=True`.\n",
      "  warnings.warn(\n"
     ]
    },
    {
     "name": "stdout",
     "output_type": "stream",
     "text": [
      "                                                    User searches for 'Daniel Huynh' on X, views profile, and interacts with his posts.  \\\n",
      "User searches for 'Daniel Huynh' on X, views pr...                                           1.000000                                     \n",
      "Go to X.com search for Daniel Huynh, Like and r...                                           0.502579                                     \n",
      "Go to X.com and search for Daniel Huynh                                                      0.469765                                     \n",
      "\n",
      "                                                    Go to X.com search for Daniel Huynh, Like and repost his latest post.  \\\n",
      "User searches for 'Daniel Huynh' on X, views pr...                                           0.502579                       \n",
      "Go to X.com search for Daniel Huynh, Like and r...                                           1.000000                       \n",
      "Go to X.com and search for Daniel Huynh                                                      0.738396                       \n",
      "\n",
      "                                                    Go to X.com and search for Daniel Huynh  \n",
      "User searches for 'Daniel Huynh' on X, views pr...                                 0.469765  \n",
      "Go to X.com search for Daniel Huynh, Like and r...                                 0.738396  \n",
      "Go to X.com and search for Daniel Huynh                                            1.000000  \n"
     ]
    }
   ],
   "source": [
    "import pandas as pd\n",
    "from sentence_transformers import SentenceTransformer, util\n",
    "\n",
    "# Load a pre-trained sentence embedding model\n",
    "model = SentenceTransformer('all-mpnet-base-v2')\n",
    "\n",
    "# Define the sentences\n",
    "sentences = [\n",
    "    \"User searches for 'Daniel Huynh' on X, views profile, and interacts with his posts.\",\n",
    "    \"Go to X.com search for Daniel Huynh, Like and repost his latest post.\",\n",
    "    \"Go to X.com and search for Daniel Huynh\"\n",
    "]\n",
    "\n",
    "# Compute embeddings for the sentences\n",
    "embeddings = model.encode(sentences, convert_to_tensor=True)\n",
    "\n",
    "# Compute cosine similarities between the embeddings\n",
    "similarities = util.pytorch_cos_sim(embeddings, embeddings)\n",
    "\n",
    "# Move tensor to CPU\n",
    "similarities_cpu = similarities.cpu()\n",
    "\n",
    "# Convert similarities to a pandas DataFrame for better readability\n",
    "similarity_df = pd.DataFrame(similarities_cpu.numpy(), index=sentences, columns=sentences)\n",
    "\n",
    "# Display the similarity matrix\n",
    "print(similarity_df)\n"
   ]
  },
  {
   "cell_type": "code",
   "execution_count": null,
   "id": "c91d6098-f8c1-4450-a3ee-58a780b8a1b0",
   "metadata": {},
   "outputs": [],
   "source": []
  }
 ],
 "metadata": {
  "kernelspec": {
   "display_name": "Python 3 (ipykernel)",
   "language": "python",
   "name": "python3"
  },
  "language_info": {
   "codemirror_mode": {
    "name": "ipython",
    "version": 3
   },
   "file_extension": ".py",
   "mimetype": "text/x-python",
   "name": "python",
   "nbconvert_exporter": "python",
   "pygments_lexer": "ipython3",
   "version": "3.11.7"
  }
 },
 "nbformat": 4,
 "nbformat_minor": 5
}
