{
 "cells": [
  {
   "cell_type": "code",
   "execution_count": null,
   "id": "5edc58dc-8a92-488b-aaa3-44fbfd553852",
   "metadata": {},
   "outputs": [],
   "source": [
    "API_KEY = 'REDACTED'"
   ]
  },
  {
   "cell_type": "markdown",
   "id": "b365b448-db65-4916-98bf-ffc92386062a",
   "metadata": {},
   "source": [
    "# Imports"
   ]
  },
  {
   "cell_type": "code",
   "execution_count": null,
   "id": "6b8ab22f-d616-45aa-82b3-48e280c26243",
   "metadata": {},
   "outputs": [],
   "source": [
    "import pandas as pd\n",
    "import os\n",
    "import google.generativeai as genai\n",
    "from datetime import datetime\n",
    "import csv\n",
    "import re"
   ]
  },
  {
   "cell_type": "markdown",
   "id": "73735be3-f7b1-4839-8c81-8ffdc6cb347e",
   "metadata": {},
   "source": [
    "# Prompt"
   ]
  },
  {
   "cell_type": "code",
   "execution_count": null,
   "id": "73e18efe-4c4a-4f55-a13a-abff436720ce",
   "metadata": {},
   "outputs": [],
   "source": [
    "def get_prompt(df):\n",
    "    return f\"\"\"\n",
    "        # TABLE\n",
    "        {df}\n",
    "        \n",
    "        # INSTRUCTION\n",
    "        Create a table called NEW_TABLE which has the same rows as TABLE but the Task is rewritten to be semantically the same but with improved wording for each Task.\n",
    "        \n",
    "        Change the Task column only in NEW_TABLE, the other columns from TABLE should remain the same\n",
    "        \n",
    "        make the examples specific - i need to be able to give this table to an employee who will do screen recordings of themselves doing each task. it's fine if the subject of a Task is left vague e.g. \"Subscribe to a YouTuber\" is better than \"Subscribe to [random youtuber]\".\n",
    "        \n",
    "        the task definition must be:\n",
    "        * precise\n",
    "        * straightforward\n",
    "        * specific\n",
    "        * self-contained\n",
    "        * action-oriented\n",
    "        * include the name of the App if there's any ambiguity\n",
    "        * 15 words or fewer\n",
    "        * not require prior context about a project / individual / project\n",
    "        * it should be clear what needs to be done from the Task definition in context with the App attached to the Task\n",
    "        * if I gave this task to 5 random people, they should all follow approximately the same actions to complete it\n",
    "        * not open to interpretation\n",
    "        * concrete e.g. do not say \"create a report\", rather say \"create a short report outline with 5 items\"\n",
    "        * do not use commas or quotes in task definitions\n",
    "        * there can be no \",\" in TASK for each row e.g. 'filter by image, type and color' should be replaced with 'filter by image and type and color'\n",
    "        \n",
    "        Rewrite the app column so that:\n",
    "        * it is semantically the same as it is currently\n",
    "        * uses the correct capitalization and standard name for each app\n",
    "        * replace \"Example Forum for Python (e.g. python.org)\" with the example so app=\"python.org\" in that case\n",
    "        * websites app valus should contain only the website url, not https or other text\n",
    "        * do not return \"Example Slack for a Design community\", instead say \"Slack\" to reference the app \n",
    "        * defer to native apps e.g. Slack rather than web versions e.g. Slack.com where applicable\n",
    "        \n",
    "        EXAMPLES\n",
    "        Bad example task from TABLE:\n",
    "        'Add a dependency to the \"Respond to Customer Feedback\" task so that it cannot be started until the \"Customer Support\" project is completed in Zoho Projects'\n",
    "        Why it's bad:\n",
    "        It's too verbose and assumes a task and project which might not exist (too specific)\n",
    "        Should be replaced with:\n",
    "        'Add a task dependency so it cannot be started until a project is completed in Zoho'\n",
    "        \n",
    "        Bad example task from TABLE:\n",
    "        'Add a due date of 2024-04-22 to the \"Develop Content Strategy\" task in Wrike'\n",
    "        Why it's bad:\n",
    "        It assumes that a 'Develop Content Strategy' task already exists which we cannot assume.\n",
    "        Should be replaced with:\n",
    "        'Add a due date of tomorrow to a task in Wrike'\n",
    "        \n",
    "        Bad example task from TABLE:\n",
    "        'Use the Animation tools to create a 3D animation'\n",
    "        Why it's bad:\n",
    "        It's vague and it's not clear what animation to create.\n",
    "        It should be replaced with:\n",
    "        'Use the Animation tools to create a simple animation of a cube rotating'\n",
    "        \n",
    "        A reasonable average person should be able to read a row of TABLE and understand how to do the Task in a way that another person would agree that the Task was done if they watched a screen recording of the first person doing the task.\n",
    "        \n",
    "        NEW_TABLE should have the following columns in order only: \n",
    "        Index, Category, Subcategory, App, Task\n",
    "        \n",
    "        return nothing else but NEW_TABLE in the same format as TABLE (CSV) with \",\" delimiters and nothing else.\n",
    "    \"\"\""
   ]
  },
  {
   "cell_type": "markdown",
   "id": "8ecee679-9a52-4fb0-a2cb-6b616057ffc9",
   "metadata": {},
   "source": [
    "# Setup Gemini"
   ]
  },
  {
   "cell_type": "code",
   "execution_count": null,
   "id": "abacb5e9-6902-4037-8ef4-a48acb6d54a7",
   "metadata": {},
   "outputs": [],
   "source": [
    "genai.configure(api_key=API_KEY)\n",
    "\n",
    "generation_config = {\n",
    "    \"temperature\": 1,\n",
    "    \"top_p\": 0.95,\n",
    "    \"top_k\": 64,\n",
    "    \"max_output_tokens\": 8192,\n",
    "    \"response_mime_type\": \"text/plain\",\n",
    "}\n",
    "\n",
    "safety_settings = [\n",
    "    {\n",
    "        \"category\": \"HARM_CATEGORY_HARASSMENT\",\n",
    "        \"threshold\": \"BLOCK_MEDIUM_AND_ABOVE\",\n",
    "    },\n",
    "    {\n",
    "        \"category\": \"HARM_CATEGORY_HATE_SPEECH\",\n",
    "        \"threshold\": \"BLOCK_MEDIUM_AND_ABOVE\",\n",
    "    },\n",
    "    {\n",
    "        \"category\": \"HARM_CATEGORY_SEXUALLY_EXPLICIT\",\n",
    "        \"threshold\": \"BLOCK_MEDIUM_AND_ABOVE\",\n",
    "    },\n",
    "    {\n",
    "        \"category\": \"HARM_CATEGORY_DANGEROUS_CONTENT\",\n",
    "        \"threshold\": \"BLOCK_MEDIUM_AND_ABOVE\",\n",
    "    },\n",
    "]"
   ]
  },
  {
   "cell_type": "markdown",
   "id": "8fd3e439-a3b9-4123-a43c-beaa0ac18227",
   "metadata": {},
   "source": [
    "# Load Tasks"
   ]
  },
  {
   "cell_type": "code",
   "execution_count": null,
   "id": "7f203a92-929c-4dfa-8515-cf9c06aaf1b2",
   "metadata": {},
   "outputs": [],
   "source": [
    "# Load the CSV file\n",
    "file_path = 'all_tasks.csv'\n",
    "tasks = pd.read_csv(file_path)\n",
    "\n",
    "print(tasks.head())\n",
    "print(\"...\")\n",
    "print(tasks.tail())"
   ]
  },
  {
   "cell_type": "markdown",
   "id": "d943b525-295c-46eb-a3fd-5952b5100580",
   "metadata": {},
   "source": [
    "# Use gemini to rewrite tasks"
   ]
  },
  {
   "cell_type": "code",
   "execution_count": null,
   "id": "5ff3cba6-e78b-4a12-8606-719e8c0117b6",
   "metadata": {},
   "outputs": [],
   "source": [
    "tasks.head()"
   ]
  },
  {
   "cell_type": "code",
   "execution_count": null,
   "id": "a3e46262-2999-442d-92d9-201f0c3156c7",
   "metadata": {},
   "outputs": [],
   "source": [
    "# Define the chunk size\n",
    "chunk_size = 100\n",
    "\n",
    "# Get the number of chunks\n",
    "num_chunks = (len(tasks) // chunk_size) + (1 if len(tasks) % chunk_size != 0 else 0)\n",
    "\n",
    "# Loop over the DataFrame in chunks of 100 rows\n",
    "for index in range(num_chunks):\n",
    "    if index > 240:\n",
    "        # Define the start and end of the slice\n",
    "        start = index * chunk_size\n",
    "        end = start + chunk_size\n",
    "        \n",
    "        # Slice the DataFrame\n",
    "        dft = tasks.iloc[start:end]\n",
    "        print(f\"PROCESSING CHUNK {index}/{num_chunks}\")\n",
    "    \n",
    "        # output csv of tasks for this job\n",
    "        FILENAME = f'TASKS_CLEANED/{index}.csv'\n",
    "    \n",
    "        PROMPT = get_prompt(dft.to_csv(index=False))\n",
    "    \n",
    "        #print(PROMPT)\n",
    "    \n",
    "        # skip if already done\n",
    "        if os.path.exists(FILENAME):\n",
    "            print(f\"[loading saved data] {index+1}/{num_chunks} slice: {index}\")\n",
    "        else:\n",
    "            print(f\" {index+1}/{num_chunks} slice: {index}\")\n",
    "    \n",
    "            try:\n",
    "                model = None\n",
    "                \n",
    "                # get jobs CSV using gemini\n",
    "                model = genai.GenerativeModel(\n",
    "                    model_name=\"gemini-1.5-flash\",\n",
    "                    safety_settings=safety_settings,\n",
    "                    generation_config=generation_config,\n",
    "                )\n",
    "                \n",
    "                start_time = datetime.now()\n",
    "                print(f\"Start time: {start_time}\")\n",
    "                \n",
    "                chat_session = model.start_chat(\n",
    "                    history=[\n",
    "                        {\n",
    "                            \"role\": \"user\",\n",
    "                            \"parts\": [\n",
    "                                PROMPT,\n",
    "                            ],\n",
    "                        }\n",
    "                    ]\n",
    "                )\n",
    "                \n",
    "                response = chat_session.send_message(\"Produce NEW_TABLE as per the instructions above.\")\n",
    "                end_time = datetime.now()\n",
    "                duration = end_time - start_time\n",
    "                \n",
    "                print(f\"End time: {end_time}\")\n",
    "                print(f\"Gemini API request duration: {duration}\")\n",
    "            \n",
    "                # Remove extra newlines and split the response text into lines\n",
    "                lines = response.text.strip().split('\\n')[0:]\n",
    "                \n",
    "                # Extract the header and rows\n",
    "                header = re.split(r'\\s*\\|\\s*', lines[0].strip('|'))\n",
    "                rows = [re.split(r'\\s*\\|\\s*', line.strip('|')) for line in lines[1:]]\n",
    "                \n",
    "                # Write to CSV\n",
    "                with open(FILENAME, 'w', newline='') as csvfile:\n",
    "                    csvwriter = csv.writer(csvfile)\n",
    "                    csvwriter.writerow(header)\n",
    "                    csvwriter.writerows(rows)\n",
    "            \n",
    "                print(\"Saving file\")\n",
    "            except Exception as e:\n",
    "                print(f\"[ERROR] {index+1}/{num_chunks} slice: {index}\")\n",
    "                print(e)"
   ]
  },
  {
   "cell_type": "code",
   "execution_count": null,
   "id": "504e71e2-080b-4c2d-9776-0f5bca72c673",
   "metadata": {},
   "outputs": [],
   "source": [
    "print(\"Done\")"
   ]
  },
  {
   "cell_type": "code",
   "execution_count": null,
   "id": "c62c3c2e-1ce9-4ec2-bb0d-3ff5e9370eaf",
   "metadata": {},
   "outputs": [],
   "source": []
  }
 ],
 "metadata": {
  "kernelspec": {
   "display_name": "Python 3 (ipykernel)",
   "language": "python",
   "name": "python3"
  },
  "language_info": {
   "codemirror_mode": {
    "name": "ipython",
    "version": 3
   },
   "file_extension": ".py",
   "mimetype": "text/x-python",
   "name": "python",
   "nbconvert_exporter": "python",
   "pygments_lexer": "ipython3",
   "version": "3.11.7"
  }
 },
 "nbformat": 4,
 "nbformat_minor": 5
}
